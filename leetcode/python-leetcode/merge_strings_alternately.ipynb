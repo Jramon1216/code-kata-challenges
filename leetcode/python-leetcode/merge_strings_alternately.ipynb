{
 "cells": [
  {
   "cell_type": "code",
   "execution_count": null,
   "metadata": {},
   "outputs": [
    {
     "name": "stdout",
     "output_type": "stream",
     "text": [
      "apbqcd\n"
     ]
    }
   ],
   "source": [
    "def mergeAlternately(word1, word2):\n",
    "    p1 = 0 \n",
    "    p2 = 0\n",
    "    result = \"\"\n",
    "\n",
    "    while (p1 < len(word1) and p2 < len(word2)):\n",
    "    \n",
    "        result += word1[p1]\n",
    "        p1 += 1\n",
    "\n",
    "        result += word2[p2]\n",
    "        p2 += 1\n",
    "\n",
    "\n",
    "    if (len(word1) > len(word2)):\n",
    "        result += word1[p1:]\n",
    "    \n",
    "    elif (len(word1) < len(word2)):\n",
    "        result += word2[p2:]\n",
    "    \n",
    "    return result\n",
    "\n",
    "\n",
    "# Much cooler and better approach found on leetcode\n",
    "\n",
    "def mergeAlterately2(word1, word2):\n",
    "        cnt = 0 # Only needs 1 pointer. No need to use more memory for 2!\n",
    "        rtype = \"\"\n",
    "        \n",
    "        while cnt < len(word1) or cnt < len(word2): # while the counter is less than the length of either word\n",
    "            # if the counter is less than the length of a word append letter of the current index\n",
    "            if cnt < len(word1): \n",
    "                rtype += word1[cnt]\n",
    "            if cnt < len(word2):\n",
    "                rtype += word2[cnt]\n",
    "            cnt += 1 # increment the counter\n",
    "        return rtype\n",
    "\n",
    "\n",
    "print(mergeAlternately('abcd', 'pq')) "
   ]
  }
 ],
 "metadata": {
  "kernelspec": {
   "display_name": "Python 3",
   "language": "python",
   "name": "python3"
  },
  "language_info": {
   "codemirror_mode": {
    "name": "ipython",
    "version": 3
   },
   "file_extension": ".py",
   "mimetype": "text/x-python",
   "name": "python",
   "nbconvert_exporter": "python",
   "pygments_lexer": "ipython3",
   "version": "3.12.1"
  }
 },
 "nbformat": 4,
 "nbformat_minor": 2
}
