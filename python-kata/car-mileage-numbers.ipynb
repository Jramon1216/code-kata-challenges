{
 "cells": [
  {
   "cell_type": "code",
   "execution_count": null,
   "metadata": {},
   "outputs": [],
   "source": [
    "\"\"\"\n",
    "Catching Care Mileage Numbers - https://www.codewars.com/kata/52c4dd683bfd3b434c000292\n",
    "\n",
    "Write the function that parses the mileage number input, and returns a 2 if the number is \"interesting\" (see below), \n",
    "a 1 if an interesting number occurs within the next two miles, or a 0 if the number is not interesting.\n",
    "\n",
    "Interesting numbers are 3-or-more digit numbers that meet one or more of the following criteria:\n",
    "\n",
    "    Any digit followed by all zeros: 100, 90000\n",
    "    Every digit is the same number: 1111\n",
    "    The digits are sequential, incementing†: 1234\n",
    "    The digits are sequential, decrementing‡: 4321\n",
    "    The digits are a palindrome: 1221 or 73837\n",
    "    The digits match one of the values in the awesome_phrases array\n",
    "\n",
    "\"\"\"\n",
    "\n",
    "def is_interesting(number, awesome_phrases):\n",
    "    # return 2 if \"interesting\"\n",
    "    # return 1 if \"interesting\" in 2 miles\n",
    "    # return 0 if not \"interesting\"\n",
    "    \n",
    "    # what is \"interesting\"?\n",
    "        # Any digits followed by all zeros: 100 , 90000\n",
    "        # Everydigit it the same number\n",
    "        # Digit is sequential (incrementing or decrementing): 1234 or 4321\n",
    "        # Palindrome number\n",
    "        # Digit matches one of the values in the [awsesome_phrases] array\n",
    "    pass\n"
   ]
  }
 ],
 "metadata": {
  "language_info": {
   "name": "python"
  }
 },
 "nbformat": 4,
 "nbformat_minor": 2
}
