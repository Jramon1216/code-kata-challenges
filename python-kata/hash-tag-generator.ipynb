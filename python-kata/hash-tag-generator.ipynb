{
 "cells": [
  {
   "cell_type": "code",
   "execution_count": 71,
   "metadata": {},
   "outputs": [
    {
     "name": "stdout",
     "output_type": "stream",
     "text": [
      "Abbcccddddeeeeeffffffggggggghhhhhhhhiiiiiiiiijjjjjjjjjjkkkkkkkkkkkllllllllllllmmmmmmmmmmmmmnnnnnnnnnnnnnnoooooooooooooooppppppppppppppppqqq\n",
      "Abbcccddddeeeeeffffffggggggghhhhhhhhiiiiiiiiijjjjjjjjjjkkkkkkkkkkkllllllllllllmmmmmmmmmmmmmnnnnnnnnnnnnnnoooooooooooooooppppppppppppppppqqq\n",
      "#Abbcccddddeeeeeffffffggggggghhhhhhhhiiiiiiiiijjjjjjjjjjkkkkkkkkkkkllllllllllllmmmmmmmmmmmmmnnnnnnnnnnnnnnoooooooooooooooppppppppppppppppqqq\n"
     ]
    }
   ],
   "source": [
    "\"\"\" \n",
    "The marketing team is spending way too much time typing in hashtags.\n",
    "     Let's help them with our own Hashtag Generator!\n",
    "\n",
    " Here's the deal:\n",
    "\n",
    "     It must start with a hashtag(#).\n",
    "     All words must have their first letter capitalized.\n",
    "     If the final result is longer than 140 chars it must return false.\n",
    "     If the input or the result is an empty string it must return false.\n",
    "\"\"\"\n",
    "\n",
    "def generate_hashtag(s):\n",
    "    if (len(s) == 0 or len(s) > 140): # Return False if input val is greater than 140 characters or an empty string\n",
    "        return False\n",
    "    \n",
    "    hashtag = '#' +  ''.join(s.replace(\"#\", '').title().strip().split()) # Create the hashtag and remove any possible pre-exsting number signs  \n",
    "\n",
    "    return hashtag if len(hashtag) <= 140 else False # return the hashtag only if the end result is less or equal tothan 140 characters otherwise return False\n",
    "\n",
    "# generate_hashtag('Codewars') # #Codewars\n",
    "# generate_hashtag('Codewars      ')  # #Codewars\n",
    "# generate_hashtag('      Codewars')  # #Codewars\n",
    "# generate_hashtag('Codewars Is Nice')  # #CodewarsIsNice\n",
    "# generate_hashtag('codewars is nice')  # #CodewarsIsNice\n",
    "# generate_hashtag('CoDeWaRs is niCe')  # #CodewarsIsNice\n",
    "# generate_hashtag('c i n')  # #CIN\n",
    "# generate_hashtag('codewars  is  nice')  # #CodewarsIsNice\n",
    "# generate_hashtag('#Apricot')\n",
    "# print(generate_hashtag(''))\n",
    "\n"
   ]
  }
 ],
 "metadata": {
  "kernelspec": {
   "display_name": ".venv",
   "language": "python",
   "name": "python3"
  },
  "language_info": {
   "codemirror_mode": {
    "name": "ipython",
    "version": 3
   },
   "file_extension": ".py",
   "mimetype": "text/x-python",
   "name": "python",
   "nbconvert_exporter": "python",
   "pygments_lexer": "ipython3",
   "version": "3.12.3"
  }
 },
 "nbformat": 4,
 "nbformat_minor": 2
}
