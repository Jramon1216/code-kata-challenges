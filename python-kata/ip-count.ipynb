{
 "cells": [
  {
   "cell_type": "code",
   "execution_count": null,
   "metadata": {},
   "outputs": [],
   "source": [
    "def ips_between(start: str, end: str) -> int:\n",
    "    def to_decimal(ip):\n",
    "        # Split IP into octets\n",
    "        # Turn octets into integer\n",
    "        # Run calculations on each octet and return the sum of all calculations\n",
    "        octets = ip.split(\".\")\n",
    "        multiplier = 24\n",
    "        \n",
    "        return octets.reduce()\n",
    "\n",
    "        "
   ]
  }
 ],
 "metadata": {
  "language_info": {
   "name": "python"
  }
 },
 "nbformat": 4,
 "nbformat_minor": 2
}
