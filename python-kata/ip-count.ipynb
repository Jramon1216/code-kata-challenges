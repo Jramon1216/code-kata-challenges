{
 "cells": [
  {
   "cell_type": "code",
   "execution_count": 24,
   "metadata": {},
   "outputs": [
    {
     "name": "stdout",
     "output_type": "stream",
     "text": [
      "1\n"
     ]
    }
   ],
   "source": [
    "\"\"\"\n",
    "Count IP Addresses - https://www.codewars.com/kata/526989a41034285187000de4/python\n",
    "\n",
    "Implement a function that receives two IPv4 addresses, and returns the number of addresses between them (including the first one, \n",
    "excluding the last one).\n",
    "All inputs will be valid IPv4 addresses in the form of strings. The last address will always be greater than the first one.\n",
    "\"\"\"\n",
    "\n",
    "def ips_between(start: str, end: str) -> int:\n",
    "    def to_decimal(ip: str) -> int:\n",
    "        octets: list[str]  = ip.split(\".\")\n",
    "        multiplier: int  = 24\n",
    "\n",
    "        for num in range(len(octets)):\n",
    "            octets[num] = int(octets[num]) * (2 ** multiplier)\n",
    "            multiplier -= 8\n",
    "        \n",
    "        return sum(octets)\n",
    "        \n",
    "    ip1: int = to_decimal(start)\n",
    "    ip2: int = to_decimal(end)\n",
    "\n",
    "    return  ip2 - ip1\n",
    "    \n",
    "\n",
    "\n",
    "print (ips_between(\"150.0.0.0\", \"150.0.0.1\"))        "
   ]
  }
 ],
 "metadata": {
  "kernelspec": {
   "display_name": "Python 3",
   "language": "python",
   "name": "python3"
  },
  "language_info": {
   "codemirror_mode": {
    "name": "ipython",
    "version": 3
   },
   "file_extension": ".py",
   "mimetype": "text/x-python",
   "name": "python",
   "nbconvert_exporter": "python",
   "pygments_lexer": "ipython3",
   "version": "3.12.1"
  }
 },
 "nbformat": 4,
 "nbformat_minor": 2
}
