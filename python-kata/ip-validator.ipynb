{
 "cells": [
  {
   "cell_type": "code",
   "execution_count": 11,
   "metadata": {},
   "outputs": [
    {
     "name": "stdout",
     "output_type": "stream",
     "text": [
      "1e0.1e1.1e2.2e2\n",
      "False\n"
     ]
    }
   ],
   "source": [
    "\"\"\"\n",
    "Count IP Addresses - https://www.codewars.com/kata/526989a41034285187000de4/python\n",
    " Implement a function that receives two IPv4 addresses, and returns the number of addresses between them(including the first one, excluding the last one).\n",
    " All inputs will be valid IPv4 addresses in the form of strings.The last address will always be greater than the first one.\n",
    "\"\"\"\n",
    "import re\n",
    "\n",
    "def is_valid_IP(strng: str) -> bool:\n",
    "    print(strng)\n",
    "    array = strng.split(\".\")\n",
    "    \n",
    "    if (len(array) != 4 or re.search(r'\\s', strng) or re.findall('[a-zA-Z]', strng)): return False\n",
    "    \n",
    "    for index in range(len(array)):\n",
    "        octet = array[index]\n",
    "        if (re.fullmatch(r'[!@#$%^&*()]', octet) or (len(octet) > 1 and  octet.startswith('0')) or octet == ''): return False\n",
    "        \n",
    "        num_octet = int(octet)\n",
    "        if (num_octet < 0 or num_octet > 255): return False\n",
    "\n",
    "    return True"
   ]
  }
 ],
 "metadata": {
  "kernelspec": {
   "display_name": "Python 3",
   "language": "python",
   "name": "python3"
  },
  "language_info": {
   "codemirror_mode": {
    "name": "ipython",
    "version": 3
   },
   "file_extension": ".py",
   "mimetype": "text/x-python",
   "name": "python",
   "nbconvert_exporter": "python",
   "pygments_lexer": "ipython3",
   "version": "3.12.1"
  }
 },
 "nbformat": 4,
 "nbformat_minor": 2
}
