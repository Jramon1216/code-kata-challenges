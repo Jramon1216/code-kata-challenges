{
 "cells": [
  {
   "cell_type": "code",
   "execution_count": 8,
   "metadata": {},
   "outputs": [
    {
     "name": "stdout",
     "output_type": "stream",
     "text": [
      "[True, True, True, False, True]\n",
      "[True, False, False, False, False]\n",
      "[True, False, True]\n"
     ]
    }
   ],
   "source": [
    "def kidsWithCandies(candies, extraCandies):\n",
    "    # find the highest number on the list and add the extra candies to it, that is our greatest value\n",
    "    # iterate through the list and compare the values and append the corresponding boolean\n",
    "    greatest_val = max(candies)\n",
    "    result = []\n",
    "\n",
    "    for i in range(len(candies)):\n",
    "        if candies[i] + extraCandies >= greatest_val:\n",
    "            result.append(True)\n",
    "        else: \n",
    "            result.append(False)\n",
    "\n",
    "    return result\n",
    "\n",
    "print(kidsWithCandies([2,3,5,1,3], 3))\n",
    "print(kidsWithCandies([4,2,1,1,2], 1))\n",
    "print(kidsWithCandies([12,1,12], 10))"
   ]
  }
 ],
 "metadata": {
  "kernelspec": {
   "display_name": "Python 3",
   "language": "python",
   "name": "python3"
  },
  "language_info": {
   "codemirror_mode": {
    "name": "ipython",
    "version": 3
   },
   "file_extension": ".py",
   "mimetype": "text/x-python",
   "name": "python",
   "nbconvert_exporter": "python",
   "pygments_lexer": "ipython3",
   "version": "3.12.1"
  }
 },
 "nbformat": 4,
 "nbformat_minor": 2
}
