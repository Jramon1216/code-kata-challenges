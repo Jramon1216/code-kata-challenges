{
 "cells": [
  {
   "cell_type": "code",
   "execution_count": null,
   "metadata": {},
   "outputs": [
    {
     "name": "stdout",
     "output_type": "stream",
     "text": [
      "[1, 1, 2, 1, 3, 0, 0]\n"
     ]
    }
   ],
   "source": [
    "# Moving Zeros to the end - https://www.codewars.com/kata/52597aa56021e91c93000cb0\n",
    "\n",
    "# Write an algorithm that takes an array and moves all of the zeros to the end, preserving the order of the other elements.\n",
    "\n",
    "# move_zeros([1, 0, 1, 2, 0, 1, 3]) # returns [1, 1, 2, 1, 3, 0, 0]\n",
    "\n",
    "def move_zeros(lst: list) -> list:\n",
    "    # Need a read and write pointer\n",
    "    read_pointer = 0\n",
    "    write_pointer = 0\n",
    "    # While loop or for loop for an O(n) solution\n",
    "    while read_pointer < len(lst):\n",
    "        if lst[read_pointer] != 0:\n",
    "            lst[write_pointer] = lst[read_pointer]\n",
    "            write_pointer += 1\n",
    "                \n",
    "\n",
    "        read_pointer += 1\n",
    "        \n",
    "    lst[write_pointer: ] = [ 0 ] * (len(lst) - write_pointer)\n",
    "    return lst\n",
    "\n",
    "print(move_zeros([1, 0, 1, 2, 0, 1, 3]))"
   ]
  }
 ],
 "metadata": {
  "kernelspec": {
   "display_name": "Python 3",
   "language": "python",
   "name": "python3"
  },
  "language_info": {
   "codemirror_mode": {
    "name": "ipython",
    "version": 3
   },
   "file_extension": ".py",
   "mimetype": "text/x-python",
   "name": "python",
   "nbconvert_exporter": "python",
   "pygments_lexer": "ipython3",
   "version": "3.12.1"
  }
 },
 "nbformat": 4,
 "nbformat_minor": 2
}
