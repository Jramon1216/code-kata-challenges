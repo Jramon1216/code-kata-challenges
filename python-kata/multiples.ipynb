{
 "cells": [
  {
   "cell_type": "code",
   "execution_count": 3,
   "metadata": {},
   "outputs": [
    {
     "name": "stdout",
     "output_type": "stream",
     "text": [
      "45\n"
     ]
    }
   ],
   "source": [
    "# Multiples of 3 or 5 - https://www.codewars.com/kata/514b92a657cdc65150000006\n",
    "\n",
    "# If we list all the natural numbers below 10 that are multiples of 3 or 5, we get 3, 5, 6 and 9. The sum of these multiples is 23.\n",
    "\n",
    "# Finish the solution so that it returns the sum of all the multiples of 3 or 5 below the number passed in.\n",
    "\n",
    "# Additionally, if the number is negative, return 0.\n",
    "\n",
    "# Note: If the number is a multiple of both 3 and 5, only count it once.\n",
    "\n",
    "def solution(number: int) -> int:\n",
    "    x = range(1, number)\n",
    "    double_multiple = 0\n",
    "    sum = 0 \n",
    "\n",
    "    for num in x:\n",
    "        if num % 3 == 0 or num % 5 == 0:\n",
    "            sum += num\n",
    "        elif num % 3 == 0 and num % 5 == 0 and not double_multiple:\n",
    "            double_multiple = num\n",
    "        else:\n",
    "            pass\n",
    "    \n",
    "    return sum + double_multiple\n",
    "\n",
    "print(solution(15))\n",
    "\n"
   ]
  }
 ],
 "metadata": {
  "kernelspec": {
   "display_name": "Python 3",
   "language": "python",
   "name": "python3"
  },
  "language_info": {
   "codemirror_mode": {
    "name": "ipython",
    "version": 3
   },
   "file_extension": ".py",
   "mimetype": "text/x-python",
   "name": "python",
   "nbconvert_exporter": "python",
   "pygments_lexer": "ipython3",
   "version": "3.12.1"
  }
 },
 "nbformat": 4,
 "nbformat_minor": 2
}
