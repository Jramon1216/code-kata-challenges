{
 "cells": [
  {
   "cell_type": "code",
   "execution_count": null,
   "metadata": {},
   "outputs": [
    {
     "name": "stdout",
     "output_type": "stream",
     "text": [
      "<class 'str'>\n",
      "0xf0xf0xf0xf0xf0xf\n"
     ]
    }
   ],
   "source": [
    "\"\"\"\n",
    "RGB To Hex Conversion - https://www.codewars.com/kata/513e08acc600c94f01000001\n",
    "\n",
    "The rgb function is incomplete. Complete it so that passing in RGB decimal values will result in a hexadecimal representation being returned. Valid decimal values for RGB are 0 - 255. Any values that fall out of that range must be rounded to the closest valid value.\n",
    "\n",
    "Note: Your answer should always be 6 characters long, the shorthand with 3 will not work here.\n",
    "Examples (input --> output):\n",
    "\n",
    "255, 255, 255 --> \"FFFFFF\"\n",
    "255, 255, 300 --> \"FFFFFF\"\n",
    "0, 0, 0       --> \"000000\"\n",
    "148, 0, 211   --> \"9400D3\"\n",
    "\"\"\"\n",
    "\n",
    "def rgb(r, g, b): \n",
    "    if r == 0 and  g == 0 and b == 0:\n",
    "        return \"000000\"\n",
    "    \n",
    "    r1 = int(r / 16)\n",
    "    r2 = int(((r/16) - r1) * 16)\n",
    "\n",
    "    g1 = int(g / 16)\n",
    "    g2 = int(((g/16) - g1) * 16)\n",
    "   \n",
    "    b1 = int(b / 16)\n",
    "    b2 = int(((b/16) - b1) * 16)\n",
    "    \n",
    "    result = hex(r1) + hex(r2) + hex(g1) + hex(g2) + hex(b1) + hex(b2)\n",
    "    \n",
    "    \n",
    "    return result\n",
    "    \n",
    "\n",
    "print(rgb(255, 255 , 255))    \n",
    "    "
   ]
  }
 ],
 "metadata": {
  "kernelspec": {
   "display_name": "Python 3",
   "language": "python",
   "name": "python3"
  },
  "language_info": {
   "codemirror_mode": {
    "name": "ipython",
    "version": 3
   },
   "file_extension": ".py",
   "mimetype": "text/x-python",
   "name": "python",
   "nbconvert_exporter": "python",
   "pygments_lexer": "ipython3",
   "version": "3.12.1"
  }
 },
 "nbformat": 4,
 "nbformat_minor": 2
}
